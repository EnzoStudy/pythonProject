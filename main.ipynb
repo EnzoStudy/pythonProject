{
  "nbformat": 4,
  "nbformat_minor": 0,
  "metadata": {
    "colab": {
      "name": "main.ipynb",
      "provenance": [],
      "collapsed_sections": [],
      "authorship_tag": "ABX9TyNr4Ma7tUgO+xj3/ua2Vy+O",
      "include_colab_link": true
    },
    "kernelspec": {
      "name": "python3",
      "display_name": "Python 3"
    }
  },
  "cells": [
    {
      "cell_type": "markdown",
      "metadata": {
        "id": "view-in-github",
        "colab_type": "text"
      },
      "source": [
        "<a href=\"https://colab.research.google.com/github/wogh551/pythonProject/blob/main/main.ipynb\" target=\"_parent\"><img src=\"https://colab.research.google.com/assets/colab-badge.svg\" alt=\"Open In Colab\"/></a>"
      ]
    },
    {
      "cell_type": "code",
      "metadata": {
        "colab": {
          "base_uri": "https://localhost:8080/"
        },
        "id": "UJW3trGDtpYj",
        "outputId": "cc2d7f2b-453b-4d29-9ede-b5f734e16258"
      },
      "source": [
        "#need lib\n",
        "!pip install pandas\n",
        "!pip install seaborn\n",
        "!pip install plotly\n"
      ],
      "execution_count": 5,
      "outputs": [
        {
          "output_type": "stream",
          "text": [
            "Requirement already satisfied: pandas in /usr/local/lib/python3.6/dist-packages (1.1.4)\n",
            "Requirement already satisfied: python-dateutil>=2.7.3 in /usr/local/lib/python3.6/dist-packages (from pandas) (2.8.1)\n",
            "Requirement already satisfied: numpy>=1.15.4 in /usr/local/lib/python3.6/dist-packages (from pandas) (1.18.5)\n",
            "Requirement already satisfied: pytz>=2017.2 in /usr/local/lib/python3.6/dist-packages (from pandas) (2018.9)\n",
            "Requirement already satisfied: six>=1.5 in /usr/local/lib/python3.6/dist-packages (from python-dateutil>=2.7.3->pandas) (1.15.0)\n",
            "Requirement already satisfied: seaborn in /usr/local/lib/python3.6/dist-packages (0.11.0)\n",
            "Requirement already satisfied: matplotlib>=2.2 in /usr/local/lib/python3.6/dist-packages (from seaborn) (3.2.2)\n",
            "Requirement already satisfied: numpy>=1.15 in /usr/local/lib/python3.6/dist-packages (from seaborn) (1.18.5)\n",
            "Requirement already satisfied: pandas>=0.23 in /usr/local/lib/python3.6/dist-packages (from seaborn) (1.1.4)\n",
            "Requirement already satisfied: scipy>=1.0 in /usr/local/lib/python3.6/dist-packages (from seaborn) (1.4.1)\n",
            "Requirement already satisfied: cycler>=0.10 in /usr/local/lib/python3.6/dist-packages (from matplotlib>=2.2->seaborn) (0.10.0)\n",
            "Requirement already satisfied: kiwisolver>=1.0.1 in /usr/local/lib/python3.6/dist-packages (from matplotlib>=2.2->seaborn) (1.3.1)\n",
            "Requirement already satisfied: pyparsing!=2.0.4,!=2.1.2,!=2.1.6,>=2.0.1 in /usr/local/lib/python3.6/dist-packages (from matplotlib>=2.2->seaborn) (2.4.7)\n",
            "Requirement already satisfied: python-dateutil>=2.1 in /usr/local/lib/python3.6/dist-packages (from matplotlib>=2.2->seaborn) (2.8.1)\n",
            "Requirement already satisfied: pytz>=2017.2 in /usr/local/lib/python3.6/dist-packages (from pandas>=0.23->seaborn) (2018.9)\n",
            "Requirement already satisfied: six in /usr/local/lib/python3.6/dist-packages (from cycler>=0.10->matplotlib>=2.2->seaborn) (1.15.0)\n",
            "Requirement already satisfied: plotly in /usr/local/lib/python3.6/dist-packages (4.4.1)\n",
            "Requirement already satisfied: six in /usr/local/lib/python3.6/dist-packages (from plotly) (1.15.0)\n",
            "Requirement already satisfied: retrying>=1.3.3 in /usr/local/lib/python3.6/dist-packages (from plotly) (1.3.3)\n"
          ],
          "name": "stdout"
        }
      ]
    },
    {
      "cell_type": "code",
      "metadata": {
        "id": "JXY37JnL0n4j"
      },
      "source": [
        "import pandas as pd \n",
        "\n",
        "#해당 링크는 한국거래소에서 상장법인목록을 엑셀로 다운로드하는 링크입니다.\n",
        "#다운로드와 동시에 Pandas에 excel 파일이 load\n",
        "stock_code = pd.read_html('http://kind.krx.co.kr/corpgeneral/corpList.do?method=download', header=0)[0] \n",
        "\n"
      ],
      "execution_count": 56,
      "outputs": []
    },
    {
      "cell_type": "code",
      "metadata": {
        "id": "W_nQOtl14wwY"
      },
      "source": [
        "stock_code=stock_code[['회사명','종목코드']]\n",
        "stock_code.rename(columns={'회사명':'company',  '종목코드':'code'},inplace=True)\n",
        "stock_code.sort_values(['company'],ascending=True,inplace=True)"
      ],
      "execution_count": 57,
      "outputs": []
    },
    {
      "cell_type": "code",
      "metadata": {
        "colab": {
          "base_uri": "https://localhost:8080/"
        },
        "id": "CBKizyMP17dg",
        "outputId": "1544fca3-0669-420c-9d8e-ab4288d37a87"
      },
      "source": [
        "print(stock_code)\n"
      ],
      "execution_count": 58,
      "outputs": [
        {
          "output_type": "stream",
          "text": [
            "         company    code\n",
            "2995  (주)이동수에프엔지   20880\n",
            "87            3R   37730\n",
            "2725          3S   60310\n",
            "3482       3SOFT   36360\n",
            "88        3노드디지탈  900010\n",
            "...          ...     ...\n",
            "1456          희림   37440\n",
            "197        희훈디앤지   19640\n",
            "3108   히든챔피언스팩1호  123160\n",
            "2620       히스토스템   36840\n",
            "3874          힘스  238490\n",
            "\n",
            "[3894 rows x 2 columns]\n"
          ],
          "name": "stdout"
        }
      ]
    },
    {
      "cell_type": "code",
      "metadata": {
        "colab": {
          "base_uri": "https://localhost:8080/"
        },
        "id": "5rJueO6L25TT",
        "outputId": "6a79cce9-17c0-4ab8-9bbb-f0dc469c7744"
      },
      "source": [
        "print(df)"
      ],
      "execution_count": 11,
      "outputs": [
        {
          "output_type": "stream",
          "text": [
            "             날짜        종가      전일비        시가        고가        저가       거래량\n",
            "0           NaN       NaN      NaN       NaN       NaN       NaN       NaN\n",
            "1    2020.12.04  846000.0      0.0  863000.0  863000.0  846000.0  370778.0\n",
            "2    2020.12.03  846000.0   5000.0  839000.0  846000.0  827000.0  372854.0\n",
            "3    2020.12.02  841000.0  32000.0  816000.0  849000.0  811000.0  592081.0\n",
            "4    2020.12.01  809000.0   9000.0  808000.0  816000.0  794000.0  404022.0\n",
            "..          ...       ...      ...       ...       ...       ...       ...\n",
            "295  2020.02.21  407000.0  12000.0  407000.0  416500.0  406500.0  400924.0\n",
            "296  2020.02.20  419000.0  15000.0  408500.0  422000.0  406000.0  482732.0\n",
            "297  2020.02.19  404000.0  14000.0  420500.0  421500.0  403500.0  766920.0\n",
            "298  2020.02.18  418000.0   1500.0  418000.0  422000.0  415000.0  366288.0\n",
            "299         NaN       NaN      NaN       NaN       NaN       NaN       NaN\n",
            "\n",
            "[300 rows x 7 columns]\n"
          ],
          "name": "stdout"
        }
      ]
    },
    {
      "cell_type": "code",
      "metadata": {
        "id": "ZGkmFtbD27mF"
      },
      "source": [
        ""
      ],
      "execution_count": null,
      "outputs": []
    }
  ]
}